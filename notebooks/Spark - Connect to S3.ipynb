{
 "cells": [
  {
   "cell_type": "code",
   "execution_count": 1,
   "metadata": {},
   "outputs": [],
   "source": [
    "import boto3"
   ]
  },
  {
   "cell_type": "code",
   "execution_count": 2,
   "metadata": {},
   "outputs": [
    {
     "data": {
      "text/plain": [
       "[{'Name': 'aws-athena-query-results-339782887627-eu-west-2',\n",
       "  'CreationDate': datetime.datetime(2019, 11, 14, 11, 29, 25, tzinfo=tzlocal())},\n",
       " {'Name': 'mi-databricks-prod',\n",
       "  'CreationDate': datetime.datetime(2019, 11, 14, 11, 31, 13, tzinfo=tzlocal())},\n",
       " {'Name': 'mi-datalake-prod',\n",
       "  'CreationDate': datetime.datetime(2020, 1, 20, 12, 35, 17, tzinfo=tzlocal())},\n",
       " {'Name': 'mi-experian-prod',\n",
       "  'CreationDate': datetime.datetime(2019, 11, 26, 11, 28, 19, tzinfo=tzlocal())},\n",
       " {'Name': 'mi-glue-etl-app-prod',\n",
       "  'CreationDate': datetime.datetime(2020, 1, 17, 14, 16, 26, tzinfo=tzlocal())},\n",
       " {'Name': 'mi-glue-etl-sql-queries-prod',\n",
       "  'CreationDate': datetime.datetime(2020, 1, 17, 14, 16, 26, tzinfo=tzlocal())},\n",
       " {'Name': 'mi-lambda-deployments-prod',\n",
       "  'CreationDate': datetime.datetime(2020, 1, 17, 14, 16, 26, tzinfo=tzlocal())},\n",
       " {'Name': 'mi-pickles-prod',\n",
       "  'CreationDate': datetime.datetime(2019, 11, 14, 11, 32, 32, tzinfo=tzlocal())},\n",
       " {'Name': 'mi-python-libraries-prod',\n",
       "  'CreationDate': datetime.datetime(2020, 1, 17, 14, 16, 26, tzinfo=tzlocal())},\n",
       " {'Name': 'mi-redshift-temp-prod',\n",
       "  'CreationDate': datetime.datetime(2020, 1, 7, 16, 50, 37, tzinfo=tzlocal())},\n",
       " {'Name': 'mi-spark-libraries-prod',\n",
       "  'CreationDate': datetime.datetime(2019, 11, 14, 11, 2, 10, tzinfo=tzlocal())},\n",
       " {'Name': 'mi-spark-schemas-prod',\n",
       "  'CreationDate': datetime.datetime(2019, 11, 13, 0, 19, 33, tzinfo=tzlocal())},\n",
       " {'Name': 'mi-staging-athena-looker-prod',\n",
       "  'CreationDate': datetime.datetime(2020, 1, 10, 21, 21, 19, tzinfo=tzlocal())},\n",
       " {'Name': 'mi-staging-athena-prod',\n",
       "  'CreationDate': datetime.datetime(2019, 11, 14, 11, 23, 9, tzinfo=tzlocal())}]"
      ]
     },
     "execution_count": 2,
     "metadata": {},
     "output_type": "execute_result"
    }
   ],
   "source": [
    "session = boto3.session.Session(profile_name='prod')\n",
    "s3 = session.client('s3')\n",
    "s3.list_buckets()['Buckets']"
   ]
  },
  {
   "cell_type": "code",
   "execution_count": 3,
   "metadata": {},
   "outputs": [],
   "source": [
    "from configparser import ConfigParser\n",
    "\n",
    "config_object = ConfigParser()\n",
    "config_object.read(\"/home/jovyan/.aws/credentials\")\n",
    "profile_info = config_object[\"prod\"]"
   ]
  },
  {
   "cell_type": "code",
   "execution_count": 4,
   "metadata": {},
   "outputs": [],
   "source": [
    "from pyspark import SparkContext, SparkConf, SQLContext\n",
    "\n",
    "conf = (\n",
    "    SparkConf()\n",
    "    .set(\"spark.hadoop.fs.s3a.path.style.access\", True)\n",
    "    .set(\"spark.hadoop.fs.s3a.access.key\", profile_info.get('aws_access_key_id'))\n",
    "    .set(\"spark.hadoop.fs.s3a.secret.key\", profile_info.get('aws_secret_access_key'))\n",
    "    .set(\"spark.hadoop.fs.s3a.endpoint\", f\"s3-{profile_info.get('region')}.amazonaws.com\")\n",
    "    .set(\"spark.hadoop.fs.s3a.impl\", \"org.apache.hadoop.fs.s3a.S3AFileSystem\")\n",
    "    .set(\"com.amazonaws.services.s3.enableV4\", True)\n",
    "    .set(\"spark.driver.extraJavaOptions\", \"-Dcom.amazonaws.services.s3.enableV4=true\")\n",
    ")\n",
    "sc = SparkContext(conf=conf).getOrCreate()\n",
    "\n",
    "sqlContext = SQLContext(sc)\n",
    "df = sqlContext.read.parquet(\"s3a://mi-datalake-prod/warehouse/platform/creditsafe_company_list/\")"
   ]
  },
  {
   "cell_type": "code",
   "execution_count": 5,
   "metadata": {},
   "outputs": [
    {
     "data": {
      "text/plain": [
       "DataFrame[creditsafe_id: string, company_number: string, company_name: string, incorporation_date: date, charity_number: string, status_code: string, status_description: string, liquidation_status: string, administration_order_flag: string, in_administration_flag: string, voluntary_agreement_flag: string, receiver_manager_flag: string, company_type: string, company_type_description: string, company_sic: string, accounts_latest_date: date, accounts_due_date: date, accounts_made_up_to_date: date, credit_rating: string, postcode: string, parent_company_number: string, ultimate_parent_company_number: string, no_of_employees: string]"
      ]
     },
     "execution_count": 5,
     "metadata": {},
     "output_type": "execute_result"
    }
   ],
   "source": [
    "df"
   ]
  },
  {
   "cell_type": "code",
   "execution_count": null,
   "metadata": {},
   "outputs": [],
   "source": []
  },
  {
   "cell_type": "code",
   "execution_count": null,
   "metadata": {},
   "outputs": [],
   "source": []
  },
  {
   "cell_type": "code",
   "execution_count": null,
   "metadata": {},
   "outputs": [],
   "source": []
  }
 ],
 "metadata": {
  "kernelspec": {
   "display_name": "Python 3",
   "language": "python",
   "name": "python3"
  },
  "language_info": {
   "codemirror_mode": {
    "name": "ipython",
    "version": 3
   },
   "file_extension": ".py",
   "mimetype": "text/x-python",
   "name": "python",
   "nbconvert_exporter": "python",
   "pygments_lexer": "ipython3",
   "version": "3.7.3"
  }
 },
 "nbformat": 4,
 "nbformat_minor": 4
}
